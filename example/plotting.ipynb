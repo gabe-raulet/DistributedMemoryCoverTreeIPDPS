{
 "cells": [
  {
   "cell_type": "code",
   "execution_count": 1,
   "id": "b8e015de",
   "metadata": {},
   "outputs": [
    {
     "name": "stdout",
     "output_type": "stream",
     "text": [
      "Untitled.ipynb      plot_results.py     test.sh\r\n",
      "combine_outputs.py  results.json\r\n"
     ]
    }
   ],
   "source": [
    "ls"
   ]
  },
  {
   "cell_type": "code",
   "execution_count": 2,
   "id": "c3b92226",
   "metadata": {},
   "outputs": [
    {
     "name": "stdout",
     "output_type": "stream",
     "text": [
      "combine_outputs.py  plotting.ipynb      test.sh\r\n",
      "plot_results.py     results.json\r\n"
     ]
    }
   ],
   "source": [
    "ls"
   ]
  },
  {
   "cell_type": "code",
   "execution_count": 5,
   "id": "b17bc55b",
   "metadata": {},
   "outputs": [],
   "source": [
    "import json\n",
    "import matplotlib.pyplot as plt\n",
    "import numpy as np\n",
    "from collections import namedtuple\n",
    "\n",
    "#  iter_cum_times = np.add.accumulate(iter_times)\n",
    "\n",
    "experiments = json.load(open(\"results.json\", \"r\"))[\"experiments\"]\n",
    "\n",
    "\n",
    "BuildInfo = namedtuple(\"BuildInfo\", [\"total_time\", \"num_hubs\", \"num_leaves\", \"num_levels\", \"num_vertices\", \"iter_times\"])\n",
    "GraphInfo = namedtuple(\"GraphInfo\", [\"total_time\", \"num_edges\", \"num_vertices\", \"dist_comps\", \"thread_edges\", \"thread_queries\"])\n",
    "ParameterInfo = namedtuple(\"ParameterInfo\", [\"min_hub_size\", \"num_threads\", \"radius\", \"split_ratio\", \"switch_percent\"])\n",
    "PointsInfo = namedtuple(\"PointsInfo\", [\"dimension\", \"float_size\", \"filename\", \"size\"])\n",
    "\n",
    "def parse_build_info(build_info):\n",
    "    total_time = build_info[\"total_time\"]\n",
    "    iterations = build_info[\"iterations\"]\n",
    "    num_hubs = np.array([it[\"num_hubs\"] for it in iterations])\n",
    "    num_leaves = np.array([it[\"num_leaves\"] for it in iterations])\n",
    "    num_levels = np.array([it[\"num_levels\"] for it in iterations])\n",
    "    num_vertices = np.array([it[\"num_vertices\"] for it in iterations])\n",
    "    iter_times = np.array([it[\"time\"] for it in iterations])\n",
    "    return BuildInfo(total_time=total_time, num_hubs=num_hubs, num_leaves=num_leaves, num_levels=num_levels, num_vertices=num_vertices, iter_times=iter_times)\n",
    "\n",
    "def parse_graph_info(graph_info):\n",
    "    total_time = graph_info[\"total_time\"]\n",
    "    graph_threads = sorted(graph_info[\"graph_threads\"], key=lambda o: o[\"thread_id\"])\n",
    "    num_edges = graph_info[\"num_edges\"]\n",
    "    num_vertices = graph_info[\"num_vertices\"]\n",
    "    dist_comps = np.array([t[\"thread_dist_comps\"] for t in graph_threads])\n",
    "    thread_edges = np.array([t[\"thread_edges\"] for t in graph_threads])\n",
    "    thread_queries = np.array([t[\"thread_queries\"] for t in graph_threads])\n",
    "    thread_times = np.array([t[\"thread_time\"] for t in graph_threads])\n",
    "    return GraphInfo(total_time=total_time, num_edges=num_edges, num_vertices=num_vertices, dist_comps=dist_comps, thread_edges=thread_edges, thread_queries=thread_queries)\n",
    "\n",
    "def parse_parameter_info(parameter_info):\n",
    "    return ParameterInfo(min_hub_size=parameter_info[\"min_hub_size\"], num_threads=parameter_info[\"num_threads\"], radius=parameter_info[\"radius\"], split_ratio=parameter_info[\"split_ratio\"], switch_percent=parameter_info[\"switch_percent\"])\n",
    "\n",
    "def parse_points_info(points_info):\n",
    "    return PointsInfo(dimension=points_info[\"dimension\"], float_size=points_info[\"float_size\"], filename=points_info[\"filename\"], size=points_info[\"size\"])\n"
   ]
  },
  {
   "cell_type": "code",
   "execution_count": 1,
   "id": "f9e9de08",
   "metadata": {
    "scrolled": true
   },
   "outputs": [
    {
     "ename": "NameError",
     "evalue": "name 'experiments' is not defined",
     "output_type": "error",
     "traceback": [
      "\u001b[0;31m---------------------------------------------------------------------------\u001b[0m",
      "\u001b[0;31mNameError\u001b[0m                                 Traceback (most recent call last)",
      "Cell \u001b[0;32mIn[1], line 1\u001b[0m\n\u001b[0;32m----> 1\u001b[0m exp \u001b[38;5;241m=\u001b[39m experiments[\u001b[38;5;241m0\u001b[39m]\n\u001b[1;32m      3\u001b[0m build_info \u001b[38;5;241m=\u001b[39m parse_build_info(exp[\u001b[38;5;124m\"\u001b[39m\u001b[38;5;124mbuild_info\u001b[39m\u001b[38;5;124m\"\u001b[39m])\n\u001b[1;32m      4\u001b[0m graph_info \u001b[38;5;241m=\u001b[39m parse_graph_info(exp[\u001b[38;5;124m\"\u001b[39m\u001b[38;5;124mgraph_info\u001b[39m\u001b[38;5;124m\"\u001b[39m])\n",
      "\u001b[0;31mNameError\u001b[0m: name 'experiments' is not defined"
     ]
    }
   ],
   "source": [
    "exp = experiments[0]\n",
    "\n",
    "build_info = parse_build_info(exp[\"build_info\"])\n",
    "graph_info = parse_graph_info(exp[\"graph_info\"])\n",
    "parameter_info = parse_parameter_info(exp[\"parameter_info\"])\n",
    "points_info = parse_points_info(exp[\"points_info\"])\n",
    "\n",
    "fig, axs = plt.subplots(3)\n",
    "\n",
    "cumulative_times = np.add.accumulate(build_info.iter_times)\n",
    "xdata = np.array(range(len(build_info.num_hubs)))\n",
    "avg_hub_sizes = (points_info.size - build_info.num_leaves)[:-1] / (build_info.num_hubs)[:-1]\n",
    "\n",
    "axs[0].plot(xdata, build_info.num_leaves, ':x', linewidth=0.7, color='green', label=\"# of leaves\")\n",
    "axs[0].plot(xdata, build_info.num_vertices, '--o', markersize=2.5, linewidth=1.0, color='blue', label=\"# of vertices\")\n",
    "axs[0].legend()\n",
    "\n",
    "axs[1].plot(xdata, build_info.num_levels, ':s', color='red', label=\"# of levels\")\n",
    "axs[1].plot(xdata[:-1], build_info.num_hubs[:-1], '-^', linewidth=0.5, color='black', label=\"# of hubs\")\n",
    "axs[1].plot(xdata[:-1], avg_hub_sizes, ':*', color='orange', label=\"average hub size\")\n",
    "axs[1].set_yscale(\"log\")\n",
    "axs[1].legend()\n",
    "\n",
    "axs[2].plot(xdata, build_info.iter_times, ':.', linewidth=0.5, color='darkgreen', label=\"iteration runtime\")\n",
    "axs[2].plot(xdata, cumulative_times, '--x', linewidth=0.5, color='purple', label=\"cumulative runtime\")\n",
    "axs[2].set_ylabel(\"Seconds\")\n",
    "axs[2].legend()\n",
    "\n",
    "\n",
    "\n"
   ]
  },
  {
   "cell_type": "code",
   "execution_count": null,
   "id": "d9839bda",
   "metadata": {},
   "outputs": [],
   "source": []
  }
 ],
 "metadata": {
  "kernelspec": {
   "display_name": "Python 3 (ipykernel)",
   "language": "python",
   "name": "python3"
  },
  "language_info": {
   "codemirror_mode": {
    "name": "ipython",
    "version": 3
   },
   "file_extension": ".py",
   "mimetype": "text/x-python",
   "name": "python",
   "nbconvert_exporter": "python",
   "pygments_lexer": "ipython3",
   "version": "3.11.6"
  }
 },
 "nbformat": 4,
 "nbformat_minor": 5
}
